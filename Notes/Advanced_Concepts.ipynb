{
 "cells": [
  {
   "cell_type": "markdown",
   "metadata": {
    "cell_style": "center",
    "slideshow": {
     "slide_type": "slide"
    }
   },
   "source": [
    "## RECAP"
   ]
  },
  {
   "cell_type": "markdown",
   "metadata": {
    "colab_type": "text",
    "id": "jCvgz4OdttVd",
    "slideshow": {
     "slide_type": "slide"
    }
   },
   "source": [
    "##  `range()` function\n",
    "\n",
    "* `range(i,j)` produces the sequence `i, i+1,...,j-1`\n",
    "\n",
    "* `range(j)` automatically starts from 0; `0,1,...,j-1` \n",
    "\n",
    "* `range(i,j,k)` increments by k; `i, i+k,..., i+nk`\n",
    "\n",
    "  * Stops with n such that `i+nk < j <= i+(n+1)k`\n",
    "\n",
    "* Count Down? Make `k` negative!\n",
    "\n",
    "  * `range(i,j,-1),  i>j`, produces `i,i-1,...,j+1`"
   ]
  },
  {
   "cell_type": "markdown",
   "metadata": {
    "colab": {},
    "colab_type": "code",
    "id": "hkEXX5gQv2JQ",
    "slideshow": {
     "slide_type": "slide"
    }
   },
   "source": [
    "#### **General rule for `range(i,j,k)`**\n",
    "* Sequence starts from `i` and gets close to `j` as possible without crossing `j`\n",
    "\n",
    "* If `k` is positive and `i >= j` then it results in empty sequence. Similarly if `k` is negative and `i <= j`"
   ]
  },
  {
   "cell_type": "markdown",
   "metadata": {
    "colab_type": "text",
    "id": "QrlTJPi5v1WU",
    "slideshow": {
     "slide_type": "slide"
    }
   },
   "source": [
    "### **`range()` and `list`**\n",
    "\n",
    "* Can convert `range()` to a `list` using `list()`\n",
    "\n",
    "  * `list(range(5))` = `[0,1,2,3,4]`\n"
   ]
  },
  {
   "cell_type": "code",
   "execution_count": null,
   "metadata": {
    "colab": {},
    "colab_type": "code",
    "id": "CZVgSR4Iv2RD",
    "slideshow": {
     "slide_type": "slide"
    }
   },
   "outputs": [],
   "source": [
    "list(range(10))"
   ]
  },
  {
   "cell_type": "code",
   "execution_count": null,
   "metadata": {
    "colab": {},
    "colab_type": "code",
    "id": "tc1cTufev2Xz",
    "slideshow": {
     "slide_type": "fragment"
    }
   },
   "outputs": [],
   "source": [
    "list(range(10,0,-1))"
   ]
  },
  {
   "cell_type": "code",
   "execution_count": null,
   "metadata": {
    "colab": {},
    "colab_type": "code",
    "id": "EmPabJJev4cS",
    "slideshow": {
     "slide_type": "fragment"
    }
   },
   "outputs": [],
   "source": [
    "list(range(10,12,-1))"
   ]
  },
  {
   "cell_type": "code",
   "execution_count": null,
   "metadata": {
    "colab": {},
    "colab_type": "code",
    "id": "92oCzqWMxOQK",
    "slideshow": {
     "slide_type": "fragment"
    }
   },
   "outputs": [],
   "source": [
    "list(range(10,-5,-3))"
   ]
  },
  {
   "cell_type": "markdown",
   "metadata": {
    "colab_type": "text",
    "id": "FR_Jgk4fxPJx",
    "slideshow": {
     "slide_type": "slide"
    }
   },
   "source": [
    "## **Explicit type conversion functions**\n",
    "\n",
    "* `str(74) = \"74\"`\n",
    "\n",
    "* `int(\"123\") = 123` \n",
    "\n",
    "* `int(\"32x\") =  Error!`\n",
    "\n",
    "### Automatic(implicit) type conversion\n",
    "\n",
    "* `x = 7`\n",
    "\n",
    "* `x = x*0.5`"
   ]
  },
  {
   "cell_type": "code",
   "execution_count": null,
   "metadata": {
    "colab": {},
    "colab_type": "code",
    "id": "AsyhFllQyu6T",
    "slideshow": {
     "slide_type": "slide"
    }
   },
   "outputs": [],
   "source": [
    "s = '123'\n",
    "int(s)"
   ]
  },
  {
   "cell_type": "code",
   "execution_count": null,
   "metadata": {
    "colab": {},
    "colab_type": "code",
    "id": "hZPFQJq6yvdX",
    "slideshow": {
     "slide_type": "fragment"
    }
   },
   "outputs": [],
   "source": [
    "s = '6e24' #mass of earth\n",
    "float(s)"
   ]
  },
  {
   "cell_type": "code",
   "execution_count": null,
   "metadata": {
    "slideshow": {
     "slide_type": "fragment"
    }
   },
   "outputs": [],
   "source": [
    "s = '6e24' #mass of earth\n",
    "int(s)"
   ]
  },
  {
   "cell_type": "markdown",
   "metadata": {
    "colab_type": "text",
    "id": "nmtKS1p3yv5h",
    "slideshow": {
     "slide_type": "slide"
    }
   },
   "source": [
    "## **More on `lists`**\n",
    "\n",
    "### **Extending a list**\n",
    "\n",
    "* Adding an element to a list, **in place**\n",
    "\n",
    "  * `list1 = [1,2,3,4]`\n",
    "\n",
    "  * `list2 = list1`\n",
    "\n",
    "  * `list1.append(5)`\n",
    "\n",
    "* `list1` and `list2` are now both `[1,2,3,4,5]`\n"
   ]
  },
  {
   "cell_type": "markdown",
   "metadata": {
    "cell_style": "center",
    "slideshow": {
     "slide_type": "slide"
    }
   },
   "source": [
    "* `list1 = list1 + [5]`\n",
    "\n",
    "* `list1 = [1,2,3,4,5]` and `list2 = [1,2,3,4]`\n",
    "\n",
    "* Concatenation produces a new list"
   ]
  },
  {
   "cell_type": "markdown",
   "metadata": {
    "colab_type": "text",
    "id": "_VFlPrJc_iEl",
    "slideshow": {
     "slide_type": "slide"
    }
   },
   "source": [
    "### **List function**\n",
    "\n",
    "* `list1.append(v)` - extends list by a single value `v`\n",
    "\n",
    "* `list1.extend(list2)` - extend `list1` by a list of values\n",
    "\n",
    "  * In place equivalent of `list1 = list1 + list2`\n",
    "\n",
    "* `list1.remove(x)` - removes the first occurance of `x`\n",
    "\n",
    "  * Error if no copy of `x` exists in `list1`"
   ]
  },
  {
   "cell_type": "code",
   "execution_count": null,
   "metadata": {
    "colab": {},
    "colab_type": "code",
    "id": "UZj4puWSANUV",
    "slideshow": {
     "slide_type": "slide"
    }
   },
   "outputs": [],
   "source": [
    "list1 = list(range(10))\n",
    "list1"
   ]
  },
  {
   "cell_type": "code",
   "execution_count": null,
   "metadata": {
    "colab": {},
    "colab_type": "code",
    "id": "K5U2kNoFANbP",
    "slideshow": {
     "slide_type": "fragment"
    }
   },
   "outputs": [],
   "source": [
    "list1.extend([11, 12, 13])\n",
    "list1"
   ]
  },
  {
   "cell_type": "code",
   "execution_count": null,
   "metadata": {
    "colab": {},
    "colab_type": "code",
    "id": "XFSFy3Yy_hTJ",
    "slideshow": {
     "slide_type": "fragment"
    }
   },
   "outputs": [],
   "source": [
    "list2 = list1 + list1\n",
    "print(list2)"
   ]
  },
  {
   "cell_type": "code",
   "execution_count": null,
   "metadata": {
    "slideshow": {
     "slide_type": "slide"
    }
   },
   "outputs": [],
   "source": [
    "list2.remove(5)\n",
    "print(list2)"
   ]
  },
  {
   "cell_type": "code",
   "execution_count": null,
   "metadata": {
    "slideshow": {
     "slide_type": "fragment"
    }
   },
   "outputs": [],
   "source": [
    "#remove() only removes first copy\n",
    "list2.remove(5)\n",
    "print(list2)"
   ]
  },
  {
   "cell_type": "code",
   "execution_count": null,
   "metadata": {
    "slideshow": {
     "slide_type": "fragment"
    }
   },
   "outputs": [],
   "source": [
    "list2.remove(5)"
   ]
  },
  {
   "cell_type": "markdown",
   "metadata": {
    "slideshow": {
     "slide_type": "slide"
    }
   },
   "source": [
    ">If the item is not in the list then the statement throws an error. \n",
    "\n",
    "\n",
    "1. Try safely deleting the item i.e use if- condition to check wheter the item is in the list.\n",
    "\n",
    "\n",
    "2. Try deleting all occurances of item in the list."
   ]
  },
  {
   "cell_type": "markdown",
   "metadata": {
    "colab_type": "text",
    "id": "ct6521mXAOkn",
    "slideshow": {
     "slide_type": "slide"
    }
   },
   "source": [
    "### **List Membership**\n",
    "\n",
    "* `x in l` returns `True` if value `x` is found in list `l`\n"
   ]
  },
  {
   "cell_type": "code",
   "execution_count": null,
   "metadata": {
    "colab": {},
    "colab_type": "code",
    "id": "hwDPTxGeAxch",
    "slideshow": {
     "slide_type": "slide"
    }
   },
   "outputs": [],
   "source": [
    "l = list1 + list1\n",
    "print(l)"
   ]
  },
  {
   "cell_type": "code",
   "execution_count": null,
   "metadata": {
    "colab": {},
    "colab_type": "code",
    "id": "KKTx7RdNAnRY",
    "slideshow": {
     "slide_type": "fragment"
    }
   },
   "outputs": [],
   "source": [
    "# Safely remove x from l\n",
    "x = 5\n",
    "if x in l:\n",
    "    l.remove(x)"
   ]
  },
  {
   "cell_type": "code",
   "execution_count": null,
   "metadata": {
    "slideshow": {
     "slide_type": "fragment"
    }
   },
   "outputs": [],
   "source": [
    "l"
   ]
  },
  {
   "cell_type": "code",
   "execution_count": null,
   "metadata": {
    "colab": {},
    "colab_type": "code",
    "id": "fKIGqYAmArvB",
    "slideshow": {
     "slide_type": "fragment"
    }
   },
   "outputs": [],
   "source": [
    "# Remove all occurances of x in l\n",
    "x = 1\n",
    "while x in l:\n",
    "    l.remove(x)"
   ]
  },
  {
   "cell_type": "code",
   "execution_count": null,
   "metadata": {
    "slideshow": {
     "slide_type": "fragment"
    }
   },
   "outputs": [],
   "source": [
    "l"
   ]
  },
  {
   "cell_type": "markdown",
   "metadata": {
    "colab_type": "text",
    "id": "03YOqXW8A2L6",
    "slideshow": {
     "slide_type": "slide"
    }
   },
   "source": [
    "### **Other functions**\n",
    "\n",
    "* `l.reverse()` - reverse `l` in place\n",
    "\n",
    "* `l.sort()` - sort `l` in ascending order\n",
    "\n",
    "* `l.sort(reverse=True)` - sort `l` in descending order\n",
    "\n",
    "* `l.index(x)` - find the leftmost position of `x` in `l`\n",
    "  * Avoid error by checking if `x` in `l``"
   ]
  },
  {
   "cell_type": "code",
   "execution_count": null,
   "metadata": {
    "colab": {},
    "colab_type": "code",
    "id": "uQHJICegBwbO",
    "slideshow": {
     "slide_type": "slide"
    }
   },
   "outputs": [],
   "source": [
    "l = list(range(10))"
   ]
  },
  {
   "cell_type": "code",
   "execution_count": null,
   "metadata": {
    "colab": {},
    "colab_type": "code",
    "id": "A7LS2mVlBwe5",
    "slideshow": {
     "slide_type": "fragment"
    }
   },
   "outputs": [],
   "source": [
    "l.reverse()\n",
    "l"
   ]
  },
  {
   "cell_type": "code",
   "execution_count": null,
   "metadata": {
    "colab": {},
    "colab_type": "code",
    "id": "kZd0R3H1BwWa",
    "slideshow": {
     "slide_type": "fragment"
    }
   },
   "outputs": [],
   "source": []
  },
  {
   "cell_type": "markdown",
   "metadata": {
    "colab_type": "text",
    "id": "MARcMfWKBxkW",
    "slideshow": {
     "slide_type": "slide"
    }
   },
   "source": [
    "#### **Precaution: Initializing lists**\n",
    "\n",
    "In Python, a name can be used before it is assigned a value. However, one might forget this for list where update is implicit.\n",
    "\n",
    "* Use : `l = []`"
   ]
  },
  {
   "cell_type": "markdown",
   "metadata": {
    "slideshow": {
     "slide_type": "slide"
    }
   },
   "source": [
    "## Loops revisited: `break` and `continue`"
   ]
  },
  {
   "cell_type": "markdown",
   "metadata": {
    "slideshow": {
     "slide_type": "fragment"
    }
   },
   "source": [
    "* alter the flow of loop \n",
    "    * break: Terminates the loop\n",
    "    * continue: Terminates the loop for current iteration only"
   ]
  },
  {
   "cell_type": "code",
   "execution_count": null,
   "metadata": {
    "slideshow": {
     "slide_type": "slide"
    }
   },
   "outputs": [],
   "source": [
    "for i in range(5):\n",
    "    if i == 2:\n",
    "        break\n",
    "    print(i)"
   ]
  },
  {
   "cell_type": "code",
   "execution_count": null,
   "metadata": {
    "slideshow": {
     "slide_type": "slide"
    }
   },
   "outputs": [],
   "source": [
    "for i in range(5):\n",
    "    if i == 2:\n",
    "        continue\n",
    "    print(i)"
   ]
  },
  {
   "cell_type": "markdown",
   "metadata": {
    "slideshow": {
     "slide_type": "slide"
    }
   },
   "source": [
    "**Example:** Finding the first position of value in a list"
   ]
  },
  {
   "cell_type": "code",
   "execution_count": null,
   "metadata": {
    "slideshow": {
     "slide_type": "fragment"
    }
   },
   "outputs": [],
   "source": [
    "# Brute force: Naive way\n",
    "def findpos(l,v):\n",
    "    # Return first position of l in v\n",
    "    # Return -1 if not found\n",
    "    found, i = False, 0\n",
    "    while i < len(l):\n",
    "        if not found and l[i] == v:\n",
    "            found, pos = True, i\n",
    "        i += 1\n",
    "    if not found:\n",
    "        pos = -1\n",
    "    return pos"
   ]
  },
  {
   "cell_type": "code",
   "execution_count": null,
   "metadata": {
    "slideshow": {
     "slide_type": "fragment"
    }
   },
   "outputs": [],
   "source": [
    "findpos([1,2,3,4,5],4)"
   ]
  },
  {
   "cell_type": "markdown",
   "metadata": {
    "slideshow": {
     "slide_type": "slide"
    }
   },
   "source": [
    "> More natural strategy: using `break`"
   ]
  },
  {
   "cell_type": "code",
   "execution_count": null,
   "metadata": {
    "slideshow": {
     "slide_type": "fragment"
    }
   },
   "outputs": [],
   "source": [
    "def findpos(l,v):\n",
    "    pos, i = -1, 0\n",
    "    for x in l:\n",
    "        if x == v:\n",
    "            pos = i\n",
    "            break\n",
    "        i += 1\n",
    "    \n",
    "    return pos"
   ]
  },
  {
   "cell_type": "markdown",
   "metadata": {
    "slideshow": {
     "slide_type": "slide"
    }
   },
   "source": [
    "> More natural strategy: Using for-else loop"
   ]
  },
  {
   "cell_type": "code",
   "execution_count": null,
   "metadata": {
    "slideshow": {
     "slide_type": "fragment"
    }
   },
   "outputs": [],
   "source": [
    "def findpos(l,v):\n",
    "    for i in range(len(l)):\n",
    "        if l[i] == v:\n",
    "            pos = i\n",
    "            break\n",
    "    else: #loop terminated in a natural way\n",
    "        pos = -1\n",
    "    \n",
    "    return pos"
   ]
  },
  {
   "cell_type": "code",
   "execution_count": null,
   "metadata": {
    "colab": {
     "base_uri": "https://localhost:8080/",
     "height": 34
    },
    "colab_type": "code",
    "id": "nHTvkzKCD_y_",
    "outputId": "df5382d0-4f1f-4eee-e1b3-0c73d4c721f1",
    "slideshow": {
     "slide_type": "fragment"
    }
   },
   "outputs": [],
   "source": [
    "findpos([1,2,3,4,5],4)"
   ]
  },
  {
   "cell_type": "markdown",
   "metadata": {
    "slideshow": {
     "slide_type": "slide"
    }
   },
   "source": [
    "---\n",
    "\n",
    "We can also use else in a while loop.\n",
    "\n",
    "*Else* part only gets executed if loop terminates normally.\n",
    "\n",
    "---"
   ]
  },
  {
   "cell_type": "markdown",
   "metadata": {
    "slideshow": {
     "slide_type": "slide"
    }
   },
   "source": [
    "## Tuples\n",
    "\n",
    "* Immutable sequence of values"
   ]
  },
  {
   "cell_type": "code",
   "execution_count": null,
   "metadata": {
    "slideshow": {
     "slide_type": "fragment"
    }
   },
   "outputs": [],
   "source": [
    "point = (3,4)\n",
    "date = (17,3,2020)\n",
    "primes = (2, 3, 5, 7, 11, 13)\n",
    "names = ('Ted', 'Barney', 'Robin')\n",
    "len(primes)"
   ]
  },
  {
   "cell_type": "markdown",
   "metadata": {
    "slideshow": {
     "slide_type": "slide"
    }
   },
   "source": [
    "#### Type need not be uniform"
   ]
  },
  {
   "cell_type": "code",
   "execution_count": null,
   "metadata": {
    "slideshow": {
     "slide_type": "fragment"
    }
   },
   "outputs": [],
   "source": [
    "mixed = (\n",
    "    'Herald',\n",
    "    2020,\n",
    "    'Naxal',\n",
    "    'Kathmandu',\n",
    "    ['Ted','Barney','Robin']\n",
    ")"
   ]
  },
  {
   "cell_type": "markdown",
   "metadata": {
    "slideshow": {
     "slide_type": "slide"
    }
   },
   "source": [
    "* Extract values by position, slice like str"
   ]
  },
  {
   "cell_type": "code",
   "execution_count": null,
   "metadata": {
    "slideshow": {
     "slide_type": "fragment"
    }
   },
   "outputs": [],
   "source": [
    "print(\"x-coordinate:\", point[0])\n",
    "print(primes[3])\n",
    "print(mixed[0:2])\n",
    "len(mixed)"
   ]
  },
  {
   "cell_type": "code",
   "execution_count": null,
   "metadata": {
    "slideshow": {
     "slide_type": "slide"
    }
   },
   "outputs": [],
   "source": [
    "primes"
   ]
  },
  {
   "cell_type": "code",
   "execution_count": null,
   "metadata": {
    "slideshow": {
     "slide_type": "fragment"
    }
   },
   "outputs": [],
   "source": [
    "#immutable\n",
    "primes[0] = 1"
   ]
  },
  {
   "cell_type": "markdown",
   "metadata": {
    "slideshow": {
     "slide_type": "slide"
    }
   },
   "source": [
    "## Dictionary"
   ]
  },
  {
   "cell_type": "markdown",
   "metadata": {
    "slideshow": {
     "slide_type": "fragment"
    }
   },
   "source": [
    "* Has table of key-value pairs"
   ]
  },
  {
   "cell_type": "code",
   "execution_count": null,
   "metadata": {
    "slideshow": {
     "slide_type": "fragment"
    }
   },
   "outputs": [],
   "source": [
    "action_values = {'up': 0,'down': 1,'left': 2, 'right': 3}\n",
    "print(action_values.keys())\n",
    "print(action_values.values())"
   ]
  },
  {
   "cell_type": "markdown",
   "metadata": {
    "slideshow": {
     "slide_type": "slide"
    }
   },
   "source": [
    "* Keys must be immutable and unique\n",
    "* It is unordered"
   ]
  },
  {
   "cell_type": "code",
   "execution_count": null,
   "metadata": {
    "slideshow": {
     "slide_type": "fragment"
    }
   },
   "outputs": [],
   "source": [
    "print(action_values)\n",
    "action_values['right']"
   ]
  },
  {
   "cell_type": "markdown",
   "metadata": {
    "slideshow": {
     "slide_type": "slide"
    }
   },
   "source": [
    "* len(d) returns length of dict d\n",
    "* Dictonary are MUTABLE"
   ]
  },
  {
   "cell_type": "code",
   "execution_count": null,
   "metadata": {
    "slideshow": {
     "slide_type": "fragment"
    }
   },
   "outputs": [],
   "source": [
    "a = [1, 2, 3]\n",
    "action_values['a'] = 4\n",
    "action_values"
   ]
  },
  {
   "cell_type": "markdown",
   "metadata": {
    "slideshow": {
     "slide_type": "slide"
    }
   },
   "source": [
    "Looping through all elements of dictionary"
   ]
  },
  {
   "cell_type": "code",
   "execution_count": null,
   "metadata": {
    "slideshow": {
     "slide_type": "fragment"
    }
   },
   "outputs": [],
   "source": [
    "action_values = {'up': 0,'down': 1,'left': 2, 'right': 3}"
   ]
  },
  {
   "cell_type": "code",
   "execution_count": null,
   "metadata": {
    "slideshow": {
     "slide_type": "fragment"
    }
   },
   "outputs": [],
   "source": [
    "action_values.items()"
   ]
  },
  {
   "cell_type": "code",
   "execution_count": null,
   "metadata": {
    "slideshow": {
     "slide_type": "fragment"
    }
   },
   "outputs": [],
   "source": [
    "for k,v in action_values.items():\n",
    "    print(k,v)"
   ]
  },
  {
   "cell_type": "markdown",
   "metadata": {
    "colab_type": "text",
    "id": "Hj8moem_FL0Q",
    "slideshow": {
     "slide_type": "slide"
    }
   },
   "source": [
    "### **Function Definition**\n",
    "\n",
    "**Default Arguments**\n",
    "\n",
    "``` \n",
    "def foo(a,b,c=3,d=4):\n",
    "  ...\n",
    "```\n",
    "\n",
    "* `foo(1,2)` is interpreted as `f(1,2,3,4)`\n",
    "* `foo(1,2,7,8)` is interpreted as `f(1,2,7,8)`\n",
    "\n",
    "* Default values are identified by position and must come at the end\n",
    "  * Order is important\n",
    "\n",
    "\n"
   ]
  },
  {
   "cell_type": "markdown",
   "metadata": {
    "colab_type": "text",
    "id": "6iJEMerMROJv",
    "slideshow": {
     "slide_type": "slide"
    }
   },
   "source": [
    "**Alias**\n",
    "\n",
    "* Can assign a function to a new name\n",
    "\n",
    "``` \n",
    "def foo(a,b,c):\n",
    "  ...\n",
    "```\n",
    "\n",
    "`bar = foo`\n",
    "\n",
    "* Now `bar` is another name for `foo`"
   ]
  },
  {
   "cell_type": "markdown",
   "metadata": {
    "colab_type": "text",
    "id": "cy9ceb6xUlrO",
    "slideshow": {
     "slide_type": "slide"
    }
   },
   "source": [
    "### **lambda expressions**\n",
    "\n",
    "* Lambda function are the anonymous function i.e function that is defined without a name and are single expression\n",
    "* Syntax\n",
    "    * `lambda arguments: expression`\n",
    "* Return is implicit\n",
    "\n",
    "\n",
    "```\n",
    "def times2(var):\n",
    "    return var*2\n",
    "```\n",
    "\n",
    "Alternately,\n",
    "\n",
    "`times2 = lambda var: var*2`"
   ]
  },
  {
   "cell_type": "code",
   "execution_count": null,
   "metadata": {
    "colab": {},
    "colab_type": "code",
    "id": "M2-tO8CWVvDM",
    "slideshow": {
     "slide_type": "slide"
    }
   },
   "outputs": [],
   "source": [
    "times2 = lambda var: var*2\n",
    "print(times2(4))"
   ]
  },
  {
   "cell_type": "markdown",
   "metadata": {
    "slideshow": {
     "slide_type": "slide"
    }
   },
   "source": [
    "> Q. Code a lambda function to check whether a number is even or not. \n",
    "\n",
    "`is_even = lambda ... `\n"
   ]
  },
  {
   "cell_type": "code",
   "execution_count": null,
   "metadata": {
    "slideshow": {
     "slide_type": "fragment"
    }
   },
   "outputs": [],
   "source": [
    "is_even = lambda x: x%2 == 0\n",
    "print(is_even(4))"
   ]
  },
  {
   "cell_type": "markdown",
   "metadata": {
    "slideshow": {
     "slide_type": "slide"
    }
   },
   "source": [
    "---\n",
    "\n",
    "Two types of functions:\n",
    "\n",
    "* times2 = lambda x: x*2\n",
    "\n",
    "* is_even = lambda x: x%2 == 0\n",
    "\n",
    "---\n",
    "\n",
    "1. First function **`maps`** a value to some other value.\n",
    "\n",
    "2. Second function **`filters`** even numbers."
   ]
  },
  {
   "cell_type": "markdown",
   "metadata": {
    "colab_type": "text",
    "id": "3XWl70yEFVEP",
    "slideshow": {
     "slide_type": "slide"
    }
   },
   "source": [
    "**We can define a function to perform several operations on a list in general**\n",
    "\n",
    "```\n",
    "def applylist(f,l):\n",
    "  for x in l:\n",
    "    x = f(x)\n",
    "```\n",
    "\n",
    "Another way to do this is to use a built-in function `map`."
   ]
  },
  {
   "cell_type": "markdown",
   "metadata": {
    "slideshow": {
     "slide_type": "slide"
    }
   },
   "source": [
    "### **Built-in function `map()`**\n",
    "\n",
    "* `map(f,l)` applies `f` to each element of `l`\n",
    "\n",
    "* Output of `map(f,l)` is not a list\n",
    "  * use `list(map(f,l)` to get a list\n",
    "  * can be used directly in a `for` loop\n",
    "    * `for i in map(f,l): ... `"
   ]
  },
  {
   "cell_type": "markdown",
   "metadata": {
    "colab": {},
    "colab_type": "code",
    "id": "BsOnmUmJFX0X",
    "slideshow": {
     "slide_type": "slide"
    }
   },
   "source": [
    "> Example:\n",
    "\n",
    "```\n",
    "seq = [1,2,3,4,5]\n",
    "\n",
    "list(map(times2,seq)) == [2,4,6,8,10]\n",
    "```\n",
    "\n",
    "OR\n",
    "\n",
    "`list(map(lambda var: var*2,seq))`\n"
   ]
  },
  {
   "cell_type": "code",
   "execution_count": null,
   "metadata": {
    "colab": {},
    "colab_type": "code",
    "id": "pa0MnfPwVpAS",
    "slideshow": {
     "slide_type": "slide"
    }
   },
   "outputs": [],
   "source": [
    "seq = list(range(1,10))\n",
    "list(map(lambda var: var*2,seq))"
   ]
  },
  {
   "cell_type": "markdown",
   "metadata": {
    "colab_type": "text",
    "id": "nS11fX4cVpJW",
    "slideshow": {
     "slide_type": "slide"
    }
   },
   "source": [
    "### **Built in function `filter()`**\n",
    "\n",
    "* `filter(p,l)` checks `p` for each element of `l`\n",
    "* Output is a sublist of values that satisfy `p`\n",
    "\n",
    ">Example\n",
    "\n",
    "```\n",
    "# returns even numbers from seq\n",
    "\n",
    "filter(lambda item: item%2 == 0,seq)\n",
    " OR\n",
    "list(filter(lambda item: item%2 == 0,seq))\n",
    "```"
   ]
  },
  {
   "cell_type": "code",
   "execution_count": null,
   "metadata": {
    "colab": {},
    "colab_type": "code",
    "id": "4lf-c9vQVp9s",
    "slideshow": {
     "slide_type": "slide"
    }
   },
   "outputs": [],
   "source": [
    "seq = [1, 2, 3, 4, 5]\n",
    "print(list(filter(lambda x: x%2==0, seq)))"
   ]
  },
  {
   "cell_type": "markdown",
   "metadata": {
    "colab_type": "text",
    "id": "Cw-QUlXLWc5Y",
    "slideshow": {
     "slide_type": "slide"
    }
   },
   "source": [
    "### **Combining `map` and `filter`**\n",
    "\n",
    "> Find sum of square of even numbers from 0 to 99\n",
    "\n",
    "```\n",
    "square = lambda x: x**2\n",
    "iseven = iseven = lambda x: x%2==0\n",
    "\n",
    "list(map(square,filter(iseven,range(100)))\n",
    "```\n"
   ]
  },
  {
   "cell_type": "markdown",
   "metadata": {
    "colab_type": "text",
    "id": "tTOucyHkVqOb",
    "slideshow": {
     "slide_type": "slide"
    }
   },
   "source": [
    "\n",
    "### **List Comprehension**\n",
    "\n",
    "> Squares of even number below 100\n",
    "\n",
    "`[square(x) for i in range(100) if iseven(x)]`\n",
    "\n",
    "| `[square(x) | for i in range(100)  | if iseven(x)]` |\n",
    "| - | - | - |\n",
    "| --map-- | ----generator---- |  --filter-- |\n",
    "\n",
    "\n",
    "\n",
    "> Example\n",
    "\n",
    "```\n",
    "x = [1,2,3,4]\n",
    "\n",
    "out = []\n",
    "for item in x:\n",
    "    out.append(item**2)\n",
    "print(out)\n",
    "\n",
    "OR\n",
    "\n",
    "[item**2 for item in x]\n",
    "```"
   ]
  },
  {
   "cell_type": "markdown",
   "metadata": {
    "slideshow": {
     "slide_type": "slide"
    }
   },
   "source": [
    "#### Extract only even numbers from a sequence of integers"
   ]
  },
  {
   "cell_type": "code",
   "execution_count": null,
   "metadata": {
    "slideshow": {
     "slide_type": "fragment"
    }
   },
   "outputs": [],
   "source": [
    "num=[x for x in range(10) if x % 2 == 0]\n",
    "print(num)"
   ]
  },
  {
   "cell_type": "markdown",
   "metadata": {
    "slideshow": {
     "slide_type": "slide"
    }
   },
   "source": [
    "### Multiple Generators \n",
    "\n",
    "#### Pythagorean triplets with x, y, z below 100"
   ]
  },
  {
   "cell_type": "code",
   "execution_count": null,
   "metadata": {
    "slideshow": {
     "slide_type": "fragment"
    }
   },
   "outputs": [],
   "source": [
    "[(x,y,z) for x in range(1, 100)\n",
    "          for y in range(x,100)\n",
    "            for z in range(y,100)\n",
    "             if x*x + y*y == z*z]"
   ]
  },
  {
   "cell_type": "markdown",
   "metadata": {
    "slideshow": {
     "slide_type": "slide"
    }
   },
   "source": [
    "#### Initalize a $4\\times 2$ matrix"
   ]
  },
  {
   "cell_type": "code",
   "execution_count": null,
   "metadata": {
    "slideshow": {
     "slide_type": "fragment"
    }
   },
   "outputs": [],
   "source": [
    "# 4 rows, 2 cols\n",
    "l = [[0 for i in range(2)] for j in range(4)]\n",
    "print(l)"
   ]
  },
  {
   "cell_type": "markdown",
   "metadata": {
    "slideshow": {
     "slide_type": "slide"
    }
   },
   "source": [
    ">  Question\n",
    "* Using list comprehension extract the initals from the following list:\n",
    "\n",
    "    `cities = ['Kathmandu','Bhaktapur','Banepa']`\n"
   ]
  },
  {
   "cell_type": "code",
   "execution_count": null,
   "metadata": {
    "slideshow": {
     "slide_type": "fragment"
    }
   },
   "outputs": [],
   "source": [
    "cities = ['Kathmandu','Bhaktapur','Banepa']"
   ]
  },
  {
   "cell_type": "markdown",
   "metadata": {
    "slideshow": {
     "slide_type": "slide"
    }
   },
   "source": [
    "> Question\n",
    "Use list comprehension to achieve the equivalent of the following program\n",
    "\n",
    "```\n",
    "factors= []\n",
    "for i in range(1,10):\n",
    "  for j in range(1,10):\n",
    "    if i%j==0:\n",
    "      factors.append((i,j))\n",
    " ```"
   ]
  },
  {
   "cell_type": "code",
   "execution_count": null,
   "metadata": {
    "colab": {},
    "colab_type": "code",
    "id": "0ruQrt0BVp7U",
    "slideshow": {
     "slide_type": "fragment"
    }
   },
   "outputs": [],
   "source": []
  },
  {
   "cell_type": "markdown",
   "metadata": {
    "slideshow": {
     "slide_type": "slide"
    }
   },
   "source": [
    "## Set"
   ]
  },
  {
   "cell_type": "markdown",
   "metadata": {
    "slideshow": {
     "slide_type": "fragment"
    }
   },
   "source": [
    "* Unordered collection of unique objects"
   ]
  },
  {
   "cell_type": "code",
   "execution_count": null,
   "metadata": {
    "slideshow": {
     "slide_type": "fragment"
    }
   },
   "outputs": [],
   "source": [
    "nums = {1,2,3,4,1,2}\n",
    "nums"
   ]
  },
  {
   "cell_type": "markdown",
   "metadata": {
    "slideshow": {
     "slide_type": "slide"
    }
   },
   "source": [
    "* Types\n",
    "    * Set\n",
    "        * Mutable\n",
    "    * Frozen sets\n",
    "        * Immutable"
   ]
  },
  {
   "cell_type": "code",
   "execution_count": null,
   "metadata": {
    "slideshow": {
     "slide_type": "fragment"
    }
   },
   "outputs": [],
   "source": [
    "# Set\n",
    "cities = {'Kathmandu','Bhaktapur','Banepa'}\n",
    "cities.add('Panauti')\n",
    "cities"
   ]
  },
  {
   "cell_type": "code",
   "execution_count": null,
   "metadata": {
    "slideshow": {
     "slide_type": "fragment"
    }
   },
   "outputs": [],
   "source": [
    "# Frozen Sets\n",
    "cities = frozenset({'Kathmandu','Bhaktapur','Banepa'})\n",
    "cities.add('Panauti')\n",
    "cities"
   ]
  },
  {
   "cell_type": "markdown",
   "metadata": {
    "colab_type": "text",
    "id": "mF8m47uxFX7f",
    "slideshow": {
     "slide_type": "slide"
    }
   },
   "source": [
    "### **Set Operations**"
   ]
  },
  {
   "cell_type": "code",
   "execution_count": null,
   "metadata": {
    "colab": {
     "base_uri": "https://localhost:8080/",
     "height": 34
    },
    "colab_type": "code",
    "id": "qPqF_SAfGVf-",
    "outputId": "e4066e76-14d0-4721-c37a-d763c92af9ec",
    "slideshow": {
     "slide_type": "fragment"
    }
   },
   "outputs": [],
   "source": [
    "a = {1,2,3,4}\n",
    "b = {3,4,5,6}"
   ]
  },
  {
   "cell_type": "code",
   "execution_count": null,
   "metadata": {
    "colab": {},
    "colab_type": "code",
    "id": "QtKmFM47PR2v",
    "slideshow": {
     "slide_type": "fragment"
    }
   },
   "outputs": [],
   "source": [
    "a.union(b)"
   ]
  },
  {
   "cell_type": "code",
   "execution_count": null,
   "metadata": {
    "slideshow": {
     "slide_type": "fragment"
    }
   },
   "outputs": [],
   "source": [
    "a.intersection(b)"
   ]
  },
  {
   "cell_type": "code",
   "execution_count": null,
   "metadata": {
    "slideshow": {
     "slide_type": "fragment"
    }
   },
   "outputs": [],
   "source": [
    "a.difference(b)"
   ]
  },
  {
   "cell_type": "code",
   "execution_count": null,
   "metadata": {
    "slideshow": {
     "slide_type": "fragment"
    }
   },
   "outputs": [],
   "source": [
    "# symmetric difference\n",
    "a ^ b"
   ]
  }
 ],
 "metadata": {
  "celltoolbar": "Slideshow",
  "colab": {
   "collapsed_sections": [],
   "name": "Advanced Concepts",
   "provenance": []
  },
  "kernelspec": {
   "display_name": "Python 3",
   "language": "python",
   "name": "python3"
  },
  "language_info": {
   "codemirror_mode": {
    "name": "ipython",
    "version": 3
   },
   "file_extension": ".py",
   "mimetype": "text/x-python",
   "name": "python",
   "nbconvert_exporter": "python",
   "pygments_lexer": "ipython3",
   "version": "3.7.4"
  },
  "toc": {
   "base_numbering": 1,
   "nav_menu": {},
   "number_sections": true,
   "sideBar": true,
   "skip_h1_title": false,
   "title_cell": "Table of Contents",
   "title_sidebar": "Contents",
   "toc_cell": false,
   "toc_position": {},
   "toc_section_display": true,
   "toc_window_display": false
  }
 },
 "nbformat": 4,
 "nbformat_minor": 1
}
