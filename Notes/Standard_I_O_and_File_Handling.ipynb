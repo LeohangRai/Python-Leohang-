{
 "cells": [
  {
   "cell_type": "markdown",
   "metadata": {
    "colab_type": "text",
    "id": "Fklg2RWz3N9R",
    "slideshow": {
     "slide_type": "slide"
    }
   },
   "source": [
    "## **Standard Input and Output**\n",
    "\n",
    "### **Interacting with user**\n",
    "\n",
    "* A program needs to interact with the user \n",
    "\n",
    "  * Receive Input (usually from a keyboard)\n",
    "\n",
    "  * Display output (usually to a screen)\n"
   ]
  },
  {
   "cell_type": "markdown",
   "metadata": {
    "colab_type": "text",
    "id": "yrcGM2N83nfp",
    "slideshow": {
     "slide_type": "slide"
    }
   },
   "source": [
    "### **Reading input from keyboard**\n",
    "\n",
    "* Read a line of input and assign it to a `variable`\n",
    "\n",
    "`userdata = input()`\n",
    "\n",
    "* Display a message prompting the user + convert it into integer\n",
    "\n",
    "`userdata = int(input(\"Enter a number\"))`"
   ]
  },
  {
   "cell_type": "markdown",
   "metadata": {
    "slideshow": {
     "slide_type": "slide"
    }
   },
   "source": [
    "* Add space or newline to make the message more readable\n",
    "\n",
    "```python\n",
    "    userdata = input(\"Enter your name: \")\n",
    "    \n",
    "    userdata = input(\"Enter your name:\\n\")\n",
    "```"
   ]
  },
  {
   "cell_type": "code",
   "execution_count": null,
   "metadata": {
    "colab": {},
    "colab_type": "code",
    "id": "UHEUEXFs3mjF",
    "slideshow": {
     "slide_type": "slide"
    }
   },
   "outputs": [],
   "source": [
    "userdata = input(\"Enter a number : \")\n",
    "print(userdata)"
   ]
  },
  {
   "cell_type": "code",
   "execution_count": null,
   "metadata": {
    "colab": {},
    "colab_type": "code",
    "id": "9VD4e8rM4uov",
    "slideshow": {
     "slide_type": "fragment"
    }
   },
   "outputs": [],
   "source": [
    "userdata = int(input(\"Enter a number\"))"
   ]
  },
  {
   "cell_type": "code",
   "execution_count": null,
   "metadata": {
    "slideshow": {
     "slide_type": "fragment"
    }
   },
   "outputs": [],
   "source": [
    "userdata"
   ]
  },
  {
   "cell_type": "markdown",
   "metadata": {
    "colab_type": "text",
    "id": "PSj6Vwri4vOv",
    "slideshow": {
     "slide_type": "slide"
    }
   },
   "source": [
    "## **Formatting output**\n",
    "\n",
    "* Print Variables\n",
    "\n",
    "`print(var1,var2)`\n",
    "\n",
    "* Print a message\n",
    "\n",
    "`print('Your name is', userdata)`\n",
    "\n",
    "* Print multiple items (Items are separated by space by default)\n",
    "\n",
    "`print(\"x is :\", x,\" and y is:\",y)`"
   ]
  },
  {
   "cell_type": "code",
   "execution_count": null,
   "metadata": {
    "colab": {},
    "colab_type": "code",
    "id": "ULezSjgd5lPW",
    "slideshow": {
     "slide_type": "slide"
    }
   },
   "outputs": [],
   "source": [
    "x,y = 5,7\n",
    "print(\"x is:\",x,\"y is:\",y)"
   ]
  },
  {
   "cell_type": "markdown",
   "metadata": {
    "slideshow": {
     "slide_type": "slide"
    }
   },
   "source": [
    "### Fine tuning `print()`\n",
    "\n",
    "* By default, `print()` appends a new line at the end.\n",
    "\n",
    "* Optionally, can specify what to append with argument `end=`"
   ]
  },
  {
   "cell_type": "code",
   "execution_count": null,
   "metadata": {
    "colab": {},
    "colab_type": "code",
    "id": "dDdzkZ_g5sup",
    "slideshow": {
     "slide_type": "fragment"
    }
   },
   "outputs": [],
   "source": [
    "print(\"Continue with this line\", end=\" \")\n",
    "print(\"Same line\",end=\"\\n\")\n",
    "print(\"Printed on a new line\")"
   ]
  },
  {
   "cell_type": "markdown",
   "metadata": {
    "slideshow": {
     "slide_type": "slide"
    }
   },
   "source": [
    "### Fine tuning `print()`\n",
    "\n",
    "* By defalut, items are sperated by space."
   ]
  },
  {
   "cell_type": "code",
   "execution_count": null,
   "metadata": {
    "slideshow": {
     "slide_type": "fragment"
    }
   },
   "outputs": [],
   "source": [
    "x,y = 5,7\n",
    "print(\"x is:\",x,\"y is:\",y,\".\")"
   ]
  },
  {
   "cell_type": "markdown",
   "metadata": {
    "slideshow": {
     "slide_type": "slide"
    }
   },
   "source": [
    "### Fine tuning `print()`\n",
    "\n",
    "* Specify seperator by using `sep=` argument"
   ]
  },
  {
   "cell_type": "code",
   "execution_count": null,
   "metadata": {
    "slideshow": {
     "slide_type": "fragment"
    }
   },
   "outputs": [],
   "source": [
    "x,y = 5,7\n",
    "print(\"x is:\",x,\"y is:\",y,\".\", sep=\"\")"
   ]
  },
  {
   "cell_type": "markdown",
   "metadata": {
    "slideshow": {
     "slide_type": "slide"
    }
   },
   "source": [
    "### Formatted printing: String `format()` method"
   ]
  },
  {
   "cell_type": "code",
   "execution_count": null,
   "metadata": {
    "slideshow": {
     "slide_type": "fragment"
    }
   },
   "outputs": [],
   "source": [
    "\"First string {} and second string {}\".format(\"here\",\"there\")"
   ]
  },
  {
   "cell_type": "code",
   "execution_count": null,
   "metadata": {
    "slideshow": {
     "slide_type": "fragment"
    }
   },
   "outputs": [],
   "source": [
    "\"First string {0} and second string {1}\".format(\"here\",\"there\")"
   ]
  },
  {
   "cell_type": "code",
   "execution_count": null,
   "metadata": {
    "slideshow": {
     "slide_type": "fragment"
    }
   },
   "outputs": [],
   "source": [
    "\"First string {1} and second string {0}\".format(\"here\",\"there\")"
   ]
  },
  {
   "cell_type": "markdown",
   "metadata": {
    "slideshow": {
     "slide_type": "slide"
    }
   },
   "source": [
    "### Formatted printing: String `format()` method\n",
    "\n",
    "* can also replace arguments with names"
   ]
  },
  {
   "cell_type": "code",
   "execution_count": null,
   "metadata": {
    "slideshow": {
     "slide_type": "fragment"
    }
   },
   "outputs": [],
   "source": [
    "\"First string {f} and second string {s}\".format(f=\"here\", s=\"there\")"
   ]
  },
  {
   "cell_type": "code",
   "execution_count": null,
   "metadata": {
    "slideshow": {
     "slide_type": "fragment"
    }
   },
   "outputs": [],
   "source": [
    "\"First string {f} and second string {s}\".format(s=\"here\", f=\"there\")"
   ]
  },
  {
   "cell_type": "markdown",
   "metadata": {
    "slideshow": {
     "slide_type": "slide"
    }
   },
   "source": [
    "![Rush Hour](https://i.kym-cdn.com/photos/images/original/001/090/703/87b.png)"
   ]
  },
  {
   "cell_type": "markdown",
   "metadata": {
    "slideshow": {
     "slide_type": "slide"
    }
   },
   "source": [
    "### Real Formatting"
   ]
  },
  {
   "cell_type": "code",
   "execution_count": null,
   "metadata": {
    "slideshow": {
     "slide_type": "fragment"
    }
   },
   "outputs": [],
   "source": [
    "# 3d specifies 3 digit decimal value in 0th argument\n",
    "\"Values: {0:3d}\".format(7)"
   ]
  },
  {
   "cell_type": "code",
   "execution_count": null,
   "metadata": {
    "slideshow": {
     "slide_type": "fragment"
    }
   },
   "outputs": [],
   "source": [
    "# f specifies flosting point\n",
    "# 6 - width of the area to show\n",
    "# 2 - number of digits to show after decimal point\n",
    "\"Value: {:6.2f}\".format(47.12345)"
   ]
  },
  {
   "cell_type": "markdown",
   "metadata": {
    "slideshow": {
     "slide_type": "slide"
    }
   },
   "source": [
    "### Printing using f-strings\n",
    "\n",
    "Syntax: `print(f'...{argument}...')`"
   ]
  },
  {
   "cell_type": "code",
   "execution_count": null,
   "metadata": {
    "slideshow": {
     "slide_type": "fragment"
    }
   },
   "outputs": [],
   "source": [
    "name = \"Karuna\"\n",
    "print(f'Go {name}! {name} GO!')"
   ]
  },
  {
   "cell_type": "markdown",
   "metadata": {
    "colab_type": "text",
    "id": "oQwbVCKq5tKI",
    "slideshow": {
     "slide_type": "slide"
    }
   },
   "source": [
    "## **File Handling**\n",
    "\n",
    "### **Dealing with files**\n",
    "\n",
    "* Standard I/O is not convinient for dealing with large chunks of data.\n",
    "\n",
    "* Instead, read/ write files on the disk.\n",
    "\n",
    "* However, disk read/write is much slower"
   ]
  },
  {
   "cell_type": "markdown",
   "metadata": {
    "slideshow": {
     "slide_type": "slide"
    }
   },
   "source": [
    "### **Reading/ writing disk data**\n",
    "\n",
    "1. Open a file - create a file handle to file on disk\n",
    "\n",
    "2. Read and Write operations are to file handle\n",
    "\n",
    "3. Close a file\n",
    "    \n",
    "    * Write out buffer to disk(flush)\n",
    "    \n",
    "    * Disconnect file handle\n"
   ]
  },
  {
   "cell_type": "markdown",
   "metadata": {
    "colab_type": "text",
    "id": "gNJcKfiR7LFt",
    "slideshow": {
     "slide_type": "slide"
    }
   },
   "source": [
    "### **Reading/ writing disk data**\n",
    "\n",
    "* Open a file - create file handle to file on disk\n",
    "\n",
    "  `fh = open(\"filename\",\"r\")`\n",
    "\n",
    "  * first argument is a file name\n",
    "\n",
    "  * Second argument is mode for opening the file\n",
    "\n",
    "    * Read, \"r\": opens a file for reading onlu\n",
    "\n",
    "    * Write, \"w\": creates an **empty** file to write\n",
    "\n",
    "    * Append, \"a\": append to an existing\n",
    "\n",
    "  * perform every operation wrt the file handle\n"
   ]
  },
  {
   "cell_type": "code",
   "execution_count": null,
   "metadata": {
    "slideshow": {
     "slide_type": "slide"
    }
   },
   "outputs": [],
   "source": [
    "!echo \"Hello World\" > infile.txt"
   ]
  },
  {
   "cell_type": "code",
   "execution_count": null,
   "metadata": {
    "colab": {},
    "colab_type": "code",
    "id": "zlaqt2KT85Y9",
    "slideshow": {
     "slide_type": "fragment"
    }
   },
   "outputs": [],
   "source": [
    "fh = open(\"infile.txt\",\"r\")\n",
    "contents = fh.read()\n",
    "print(contents)\n",
    "fh.close()"
   ]
  },
  {
   "cell_type": "markdown",
   "metadata": {
    "colab_type": "text",
    "id": "pD8xtw5K86x3",
    "slideshow": {
     "slide_type": "slide"
    }
   },
   "source": [
    "## **Read through file handle**\n",
    "\n",
    "* Reads entire file into name as a single string\n",
    "\n",
    "  `contents = fh.read()`\n",
    "\n",
    "* Read one line - lines end with `'\\n'`\n",
    "\n",
    "  `contents = fh.readline()`\n",
    "\n",
    "* Read entire file as a list of string \n",
    "\n",
    "  * Each string is one line, ending with `'\\n'`\n",
    "\n",
    "  `contents = fh.readlines()`\n",
    "\n",
    "* Read n characters from the file"
   ]
  },
  {
   "cell_type": "markdown",
   "metadata": {
    "slideshow": {
     "slide_type": "slide"
    }
   },
   "source": [
    "* write the following in a file\n",
    "\n",
    "```\n",
    "This is line1\n",
    "This is line2\n",
    "This is line3\n",
    "and so on.\n",
    "```"
   ]
  },
  {
   "cell_type": "code",
   "execution_count": null,
   "metadata": {
    "colab": {},
    "colab_type": "code",
    "id": "pfMrtnP7QZ_c",
    "slideshow": {
     "slide_type": "fragment"
    }
   },
   "outputs": [],
   "source": [
    "fh = open(\"infile.txt\",\"r\")"
   ]
  },
  {
   "cell_type": "code",
   "execution_count": null,
   "metadata": {
    "slideshow": {
     "slide_type": "fragment"
    }
   },
   "outputs": [],
   "source": [
    "contents = fh.readlines()"
   ]
  },
  {
   "cell_type": "code",
   "execution_count": null,
   "metadata": {
    "slideshow": {
     "slide_type": "fragment"
    }
   },
   "outputs": [],
   "source": [
    "contents"
   ]
  },
  {
   "cell_type": "markdown",
   "metadata": {
    "slideshow": {
     "slide_type": "slide"
    }
   },
   "source": [
    "![Sequential Process](Python-file_handling.png)\n",
    "\n",
    "\n",
    "`fh.seek(n)` - moves pointer to position `n`\n",
    "\n",
    "`block = fh.read(n)` - read a fixed number of characters\n",
    "\n",
    "</br>\n",
    "\n",
    "**End Of File(EOF)**\n",
    "\n",
    " * `fh.read(), fh.readline()` returns empty string `\"\"`"
   ]
  },
  {
   "cell_type": "markdown",
   "metadata": {
    "colab_type": "text",
    "id": "lkZ1JeGVOfjG",
    "slideshow": {
     "slide_type": "slide"
    }
   },
   "source": [
    "### **Writing to a file**\n",
    "\n",
    "* `fh.write(s)` - write string `s` to file\n",
    "\n",
    "  * Returns number of characters written\n",
    "\n",
    "* `fh.writelines(l)` - write a list of lines `l` to file\n",
    "\n",
    "* Include `'\\n'` explicitly for a new line\n"
   ]
  },
  {
   "cell_type": "markdown",
   "metadata": {
    "colab_type": "text",
    "id": "AbIfxqC084ZP",
    "slideshow": {
     "slide_type": "slide"
    }
   },
   "source": [
    "### **Close a file**\n",
    "\n",
    "* Write out buffer to disk and disconnect file handle\n",
    "\n",
    "* `fh.close()` - flushes output buffer and decouples file handle"
   ]
  },
  {
   "cell_type": "markdown",
   "metadata": {
    "colab_type": "text",
    "id": "6lDNnq8G8WH6",
    "slideshow": {
     "slide_type": "slide"
    }
   },
   "source": [
    "### **Processing a file**\n",
    "\n",
    "```python\n",
    "fh = open(\"filename\", \"r\")\n",
    "for l in fh.readlines():\n",
    "  ...\n",
    "```\n",
    "\n",
    ">Example : Copying a file\n",
    "\n",
    "```python\n",
    "infile = open(\"infile.txt\", \"r\")\n",
    "outfile = open(\"outfile.txt\", \"w\")\n",
    "\n",
    "for line in infile.readlines():\n",
    "    outfile.write(line)\n",
    "\n",
    "infile.close()\n",
    "outfile.close()\n",
    "```\n",
    "\n",
    "**OR**\n",
    "\n",
    "```python\n",
    "contents = infile.readlines()\n",
    "outfile.writelines(contents)\n",
    "```"
   ]
  },
  {
   "cell_type": "code",
   "execution_count": null,
   "metadata": {
    "slideshow": {
     "slide_type": "slide"
    }
   },
   "outputs": [],
   "source": [
    "fh = open(\"infile.txt\",\"r\")\n",
    "for l in fh.readlines():\n",
    "    print(l)"
   ]
  },
  {
   "cell_type": "code",
   "execution_count": null,
   "metadata": {
    "slideshow": {
     "slide_type": "fragment"
    }
   },
   "outputs": [],
   "source": [
    "c = fh.readlines()"
   ]
  },
  {
   "cell_type": "code",
   "execution_count": null,
   "metadata": {
    "slideshow": {
     "slide_type": "fragment"
    }
   },
   "outputs": [],
   "source": [
    "fh.close()"
   ]
  },
  {
   "cell_type": "code",
   "execution_count": null,
   "metadata": {
    "slideshow": {
     "slide_type": "slide"
    }
   },
   "outputs": [],
   "source": [
    "fh = open(\"infile.txt\",\"w\")"
   ]
  },
  {
   "cell_type": "code",
   "execution_count": null,
   "metadata": {
    "slideshow": {
     "slide_type": "fragment"
    }
   },
   "outputs": [],
   "source": [
    "fh.writelines(\"THis is an additional line.\")"
   ]
  },
  {
   "cell_type": "code",
   "execution_count": null,
   "metadata": {
    "slideshow": {
     "slide_type": "fragment"
    }
   },
   "outputs": [],
   "source": [
    "fh.close()"
   ]
  },
  {
   "cell_type": "code",
   "execution_count": null,
   "metadata": {
    "slideshow": {
     "slide_type": "slide"
    }
   },
   "outputs": [],
   "source": [
    "fh = open(\"infile.txt\",\"r\")\n",
    "for l in fh.readlines():\n",
    "    print(l)"
   ]
  }
 ],
 "metadata": {
  "celltoolbar": "Slideshow",
  "colab": {
   "collapsed_sections": [],
   "name": "Standard I/O and File Handling",
   "provenance": []
  },
  "kernelspec": {
   "display_name": "Python 3",
   "language": "python",
   "name": "python3"
  },
  "language_info": {
   "codemirror_mode": {
    "name": "ipython",
    "version": 3
   },
   "file_extension": ".py",
   "mimetype": "text/x-python",
   "name": "python",
   "nbconvert_exporter": "python",
   "pygments_lexer": "ipython3",
   "version": "3.7.4"
  },
  "toc": {
   "base_numbering": 1,
   "nav_menu": {},
   "number_sections": true,
   "sideBar": true,
   "skip_h1_title": false,
   "title_cell": "Table of Contents",
   "title_sidebar": "Contents",
   "toc_cell": false,
   "toc_position": {},
   "toc_section_display": true,
   "toc_window_display": false
  }
 },
 "nbformat": 4,
 "nbformat_minor": 1
}
